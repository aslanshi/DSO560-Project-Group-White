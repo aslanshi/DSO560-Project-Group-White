{
 "cells": [
  {
   "cell_type": "code",
   "execution_count": 1,
   "metadata": {},
   "outputs": [
    {
     "name": "stderr",
     "output_type": "stream",
     "text": [
      "C:\\ProgramData\\Anaconda3\\lib\\site-packages\\fuzzywuzzy\\fuzz.py:11: UserWarning: Using slow pure-python SequenceMatcher. Install python-Levenshtein to remove this warning\n",
      "  warnings.warn('Using slow pure-python SequenceMatcher. Install python-Levenshtein to remove this warning')\n"
     ]
    }
   ],
   "source": [
    "import pandas as pd\n",
    "import numpy as np\n",
    "import re\n",
    "import string\n",
    "import nltk\n",
    "import pickle\n",
    "from nltk.corpus import stopwords\n",
    "from nltk.corpus import wordnet\n",
    "from nltk.stem.wordnet import WordNetLemmatizer\n",
    "from nltk.tokenize import word_tokenize\n",
    "from gensim.models.phrases import Phraser, Phrases\n",
    "import spacy\n",
    "from scipy import spatial\n",
    "from fuzzywuzzy import fuzz"
   ]
  },
  {
   "cell_type": "code",
   "execution_count": 2,
   "metadata": {},
   "outputs": [],
   "source": [
    "punctuations = string.punctuation\n",
    "nlp = spacy.load('en')\n",
    "stop_words = spacy.lang.en.stop_words.STOP_WORDS\n",
    "from spacy.lang.en import English\n",
    "parser = English()\n",
    "\n",
    "def clean_text(text):\n",
    "    '''\n",
    "    use regular expression to clean text \n",
    "    replace numbers and units to variables\n",
    "    '''\n",
    "    p = re.compile(r'<.*?>')\n",
    "    text = p.sub('', text)\n",
    "    text = text.lower()\n",
    "    text = re.sub('\\xa0', '',text)\n",
    "    text = re.sub(r'\\d{1,3}(\\.|\\’)?\\d{1,3}?(\\\"|\\”)',\"length_val\", text)\n",
    "    text = re.sub(r'\\d{1,3}\\s*?%',\"percentage_val\", text)\n",
    "    text = text.strip(string.punctuation).replace(\"\\n\", \" \").replace(\"\\r\", \" \")\n",
    "    text = re.sub(r'[^\\w\\s]','',text)\n",
    "    text = re.sub(r'\\d{1,3}\\s*?mm',\"mm_val\", text)\n",
    "    text = re.sub(r'\\d{1,3}\\s*?cm',\"cm_val\", text)\n",
    "    text = re.sub(r'\\d{1,3}\\s*?(inches|inch)',\"inches_val\", text)\n",
    "    text = re.sub(r'\\d{1,3}\\s*?(lbs|kg)',\"weight_val\", text)\n",
    "    text = re.sub(r'size\\s*?\\d{1,3}\\s*?',\"size_val\", text)\n",
    "    text = re.sub(r'\\b\\d+\\b',' ',text)\n",
    "    text = re.sub(r'\\s+',' ',text) \n",
    "    mytokens = parser(text)\n",
    "    mytokens = [ word.lemma_.lower().strip() for word in mytokens ]\n",
    "    mytokens = [ word for word in mytokens if word not in stop_words and word not in punctuations ]\n",
    "    return \" \".join(mytokens)"
   ]
  },
  {
   "cell_type": "code",
   "execution_count": 6,
   "metadata": {},
   "outputs": [],
   "source": [
    "### Reading files\n",
    "combo = pd.read_csv('outfit_combinations.csv')\n",
    "full = pd.read_csv('full_data_final version.csv')\n",
    "full = full.loc[:,['product_id','brand','product_full_name','description','brand_category','brand_canonical_url','details']]\n",
    "full.drop_duplicates(inplace=True)\n",
    "combo = combo.merge(full, how = 'left', on = ['product_id', 'brand', 'product_full_name'])\n",
    "combo.fillna('unknown_token', inplace = True)\n",
    "x = [combo.brand + ' '+ combo.product_full_name +' '+combo.description+' '+combo.brand_category + ' '+combo.details]\n",
    "x = x[0]\n",
    "cleaned_x = [clean_text(i) for i in x]"
   ]
  },
  {
   "cell_type": "code",
   "execution_count": 8,
   "metadata": {},
   "outputs": [],
   "source": [
    "import en_core_web_lg\n",
    "nlp = en_core_web_lg.load()\n",
    "def vectorize(text):\n",
    "    temp = nlp(text)\n",
    "    return temp.vector"
   ]
  },
  {
   "cell_type": "code",
   "execution_count": 9,
   "metadata": {},
   "outputs": [],
   "source": [
    "### Vectoirize name, descripiton, brand, brand category using spacy\n",
    "vector_text  =[vectorize(i) for i in cleaned_x]"
   ]
  },
  {
   "cell_type": "code",
   "execution_count": 10,
   "metadata": {},
   "outputs": [],
   "source": [
    "### Create new dataframe\n",
    "df_x = pd.DataFrame(columns = ['product_id', 'vector'], index = combo.index)\n",
    "df_x['product_id'] = combo.product_id\n",
    "df_x.set_index('product_id', inplace = True)\n",
    "df_x['vector']  = [i for i in vector_text]"
   ]
  },
  {
   "cell_type": "code",
   "execution_count": 11,
   "metadata": {},
   "outputs": [
    {
     "data": {
      "text/html": [
       "<div>\n",
       "<style scoped>\n",
       "    .dataframe tbody tr th:only-of-type {\n",
       "        vertical-align: middle;\n",
       "    }\n",
       "\n",
       "    .dataframe tbody tr th {\n",
       "        vertical-align: top;\n",
       "    }\n",
       "\n",
       "    .dataframe thead th {\n",
       "        text-align: right;\n",
       "    }\n",
       "</style>\n",
       "<table border=\"1\" class=\"dataframe\">\n",
       "  <thead>\n",
       "    <tr style=\"text-align: right;\">\n",
       "      <th></th>\n",
       "      <th>vector</th>\n",
       "    </tr>\n",
       "    <tr>\n",
       "      <th>product_id</th>\n",
       "      <th></th>\n",
       "    </tr>\n",
       "  </thead>\n",
       "  <tbody>\n",
       "    <tr>\n",
       "      <th>01DMBRYVA2P5H24WK0HTK4R0A1</th>\n",
       "      <td>[0.13419311, 0.0055919983, -0.23032445, 0.1932...</td>\n",
       "    </tr>\n",
       "    <tr>\n",
       "      <th>01DMBRYVA2PEPWFTT7RMP5AA1T</th>\n",
       "      <td>[0.051668204, 0.1084152, -0.246434, 0.16985838...</td>\n",
       "    </tr>\n",
       "    <tr>\n",
       "      <th>01DMBRYVA2S5T9W793F4CY41HE</th>\n",
       "      <td>[-0.09401983, 0.11568582, 0.016127413, -0.1234...</td>\n",
       "    </tr>\n",
       "    <tr>\n",
       "      <th>01DMBRYVA2ZFDYRYY5TRQZJTBD</th>\n",
       "      <td>[0.0035409087, 0.091781445, 0.103435636, -0.18...</td>\n",
       "    </tr>\n",
       "    <tr>\n",
       "      <th>01DMBRYVA2P5H24WK0HTK4R0A1</th>\n",
       "      <td>[0.13419311, 0.0055919983, -0.23032445, 0.1932...</td>\n",
       "    </tr>\n",
       "    <tr>\n",
       "      <th>...</th>\n",
       "      <td>...</td>\n",
       "    </tr>\n",
       "    <tr>\n",
       "      <th>01E5ZYHZA7186DVWEJ99Q4D2PM</th>\n",
       "      <td>[0.20001274, 0.064251885, -0.1018092, -0.02918...</td>\n",
       "    </tr>\n",
       "    <tr>\n",
       "      <th>01E2P0SJSKFKNQJ5SVQ8MD1JZT</th>\n",
       "      <td>[0.011835023, 0.12402969, 0.05941964, -0.06654...</td>\n",
       "    </tr>\n",
       "    <tr>\n",
       "      <th>01E4RW25Y8ZF6WKZRE50Y6SKH5</th>\n",
       "      <td>[0.10242396, 0.19070508, -0.206334, 0.18994208...</td>\n",
       "    </tr>\n",
       "    <tr>\n",
       "      <th>01E5ZS3R9JD696YWGK9NSG56E1</th>\n",
       "      <td>[0.03905594, 0.15765749, -0.024056124, 0.07992...</td>\n",
       "    </tr>\n",
       "    <tr>\n",
       "      <th>01E5ZYHZA7186DVWEJ99Q4D2PM</th>\n",
       "      <td>[0.20001274, 0.064251885, -0.1018092, -0.02918...</td>\n",
       "    </tr>\n",
       "  </tbody>\n",
       "</table>\n",
       "<p>5300 rows × 1 columns</p>\n",
       "</div>"
      ],
      "text/plain": [
       "                                                                       vector\n",
       "product_id                                                                   \n",
       "01DMBRYVA2P5H24WK0HTK4R0A1  [0.13419311, 0.0055919983, -0.23032445, 0.1932...\n",
       "01DMBRYVA2PEPWFTT7RMP5AA1T  [0.051668204, 0.1084152, -0.246434, 0.16985838...\n",
       "01DMBRYVA2S5T9W793F4CY41HE  [-0.09401983, 0.11568582, 0.016127413, -0.1234...\n",
       "01DMBRYVA2ZFDYRYY5TRQZJTBD  [0.0035409087, 0.091781445, 0.103435636, -0.18...\n",
       "01DMBRYVA2P5H24WK0HTK4R0A1  [0.13419311, 0.0055919983, -0.23032445, 0.1932...\n",
       "...                                                                       ...\n",
       "01E5ZYHZA7186DVWEJ99Q4D2PM  [0.20001274, 0.064251885, -0.1018092, -0.02918...\n",
       "01E2P0SJSKFKNQJ5SVQ8MD1JZT  [0.011835023, 0.12402969, 0.05941964, -0.06654...\n",
       "01E4RW25Y8ZF6WKZRE50Y6SKH5  [0.10242396, 0.19070508, -0.206334, 0.18994208...\n",
       "01E5ZS3R9JD696YWGK9NSG56E1  [0.03905594, 0.15765749, -0.024056124, 0.07992...\n",
       "01E5ZYHZA7186DVWEJ99Q4D2PM  [0.20001274, 0.064251885, -0.1018092, -0.02918...\n",
       "\n",
       "[5300 rows x 1 columns]"
      ]
     },
     "execution_count": 11,
     "metadata": {},
     "output_type": "execute_result"
    }
   ],
   "source": [
    "df_x"
   ]
  },
  {
   "cell_type": "code",
   "execution_count": 38,
   "metadata": {},
   "outputs": [],
   "source": [
    "def get_rec():\n",
    "    '''\n",
    "    This function takes 6 optional inputs\n",
    "    If an appropriate product is input, we use it to find recommended cloths\n",
    "    If not, we search the most similiar product based on input information\n",
    "    and find the outfit\n",
    "    '''\n",
    "    p_id = input('product id: ')\n",
    "    brand = input('brand: ')\n",
    "    description = input('description: ')\n",
    "    details = input('details: ')\n",
    "    brand_cate = input('brand category: ')\n",
    "    name = input('product name: ')\n",
    "    if len(p_id)>0:\n",
    "        ### Seaerch by product id\n",
    "        if p_id in list(combo.product_id):\n",
    "            product_id = p_id\n",
    "        else:\n",
    "            ### recommend the most similiar product id\n",
    "            fuzz_df = pd.DataFrame(columns = ['product_id', 'fuzzy'])\n",
    "            fuzz_df.product_id = df_x.index\n",
    "            fuzz_df.drop_duplicates(inplace = True)\n",
    "            fuzz_id = [fuzz.ratio(p_id, i) for i in fuzz_df.product_id]\n",
    "            fuzz_df.fuzzy = fuzz_id\n",
    "            top_3_id = fuzz_df.sort_values('fuzzy', ascending  =False)[:3].product_id\n",
    "            print(f'input product_id not found, follows are recommended product id:{top_3_id.values}')\n",
    "            product_id = input('New input product id: ')\n",
    "    else:\n",
    "        ### if user did not input product, use other info\n",
    "        inputs = str(brand) + ' ' + str(description) + ' '+str(details)+' '+str(brand_cate)+' '+str(name)\n",
    "        inputs = clean_text(inputs)\n",
    "        inputs = vectorize(inputs)\n",
    "        simi_list = [1 - spatial.distance.cosine(df_x.iloc[i,0], inputs) for i in range(len(df_x))]\n",
    "        df_x['similarity'] = simi_list\n",
    "\n",
    "        product_id = df_x[df_x.iloc[:,1]==df_x.iloc[:,1].max()].iloc[0,:].name\n",
    "    outfit = combo[combo.product_id==product_id].outfit_id.iloc[:1].values[0]\n",
    "    recom = combo[combo.outfit_id== outfit]\n",
    "    \n",
    "    for i in range(len(recom)):\n",
    "        types = list(recom.outfit_item_type)\n",
    "        names = list(recom.product_full_name)\n",
    "        product_id = list(recom.product_id)\n",
    "    dicts = { types[i] : [names[i], product_id[i]] for i in range(0, len(types) ) }    \n",
    "    for i in dicts.keys():\n",
    "        print(f'{i}: {dicts[i][0]} ({dicts[i][1]})')"
   ]
  },
  {
   "cell_type": "markdown",
   "metadata": {},
   "source": [
    "### Test 1\n",
    "#### Correct product ID"
   ]
  },
  {
   "cell_type": "code",
   "execution_count": 35,
   "metadata": {},
   "outputs": [
    {
     "name": "stdout",
     "output_type": "stream",
     "text": [
      "product id:01DMBRYVA2ZFDYRYY5TRQZJTBD\n",
      "brand:\n",
      "description:\n",
      "details:\n",
      "brand category:\n",
      "product name:\n",
      "bottom: Slim Knit Skirt (01DMBRYVA2P5H24WK0HTK4R0A1)\n",
      "top: Rib Mock Neck Tank (01DMBRYVA2PEPWFTT7RMP5AA1T)\n",
      "accessory1: medium margaux leather satchel (01DMBRYVA2S5T9W793F4CY41HE)\n",
      "shoe: Penelope Mid Cap Toe Pump (01DMBRYVA2ZFDYRYY5TRQZJTBD)\n"
     ]
    }
   ],
   "source": [
    "get_rec()"
   ]
  },
  {
   "cell_type": "markdown",
   "metadata": {},
   "source": [
    "#### Wrong product ID"
   ]
  },
  {
   "cell_type": "code",
   "execution_count": 36,
   "metadata": {},
   "outputs": [
    {
     "name": "stdout",
     "output_type": "stream",
     "text": [
      "product id:11DMBRYVA2ZFDYRYY5TRQZJTBD\n",
      "brand:\n",
      "description:\n",
      "details:\n",
      "brand category:\n",
      "product name:\n",
      "input product_id not found, follows are recommended product id:['01DMBRYVA2ZFDYRYY5TRQZJTBD' '01DMBRYVA2Q2ST7MNYR6EEY4TK'\n",
      " '01DMBRYVA2PEPWFTT7RMP5AA1T']\n",
      "New input product id: 01DMBRYVA2ZFDYRYY5TRQZJTBD\n",
      "bottom: Slim Knit Skirt (01DMBRYVA2P5H24WK0HTK4R0A1)\n",
      "top: Rib Mock Neck Tank (01DMBRYVA2PEPWFTT7RMP5AA1T)\n",
      "accessory1: medium margaux leather satchel (01DMBRYVA2S5T9W793F4CY41HE)\n",
      "shoe: Penelope Mid Cap Toe Pump (01DMBRYVA2ZFDYRYY5TRQZJTBD)\n"
     ]
    }
   ],
   "source": [
    "get_rec()"
   ]
  },
  {
   "cell_type": "markdown",
   "metadata": {},
   "source": [
    "### Test 2 "
   ]
  },
  {
   "cell_type": "code",
   "execution_count": 37,
   "metadata": {},
   "outputs": [
    {
     "name": "stdout",
     "output_type": "stream",
     "text": [
      "product id:\n",
      "brand:Reformation\n",
      "description:slim fitting, straight leg pant with a center back zipper and slightly cropped leg\n",
      "details:\n",
      "brand category:\n",
      "product name:\n",
      "accessory1: Cassi Belt Bag (01DPEHS0XH9PDD1GH5ZE4P43A2)\n",
      "bottom: Marlon Pant (01DPKMH0D252JKMAA27MFCT5GM)\n",
      "top: Jane Sweater (01DPKN20Q3J0BE3CS896DQB6ER)\n",
      "shoe: Giulia Satin Heel (01DPKNHQDG6GPTKV97CFQRJDHE)\n"
     ]
    }
   ],
   "source": [
    "get_rec()"
   ]
  },
  {
   "cell_type": "markdown",
   "metadata": {},
   "source": [
    "### Test 3"
   ]
  },
  {
   "cell_type": "code",
   "execution_count": 39,
   "metadata": {},
   "outputs": [
    {
     "name": "stdout",
     "output_type": "stream",
     "text": [
      "product id: \n",
      "brand: \n",
      "description: Sexy silky, a-line mini skirt zipper Benson skirt\n",
      "details: \n",
      "brand category: \n",
      "product name: \n",
      "shoe: Pointed-toe flats in suede (01DPCRZWX4S2Z8Q5HYDFM4HNEG)\n",
      "top: Ashlynn Blouse (01DPET2NWSA221STZF740BZ9SW)\n",
      "bottom: Benson Skirt (01DPKMGJ33SDFXM7XHGPQJWQ12)\n"
     ]
    }
   ],
   "source": [
    "get_rec()"
   ]
  },
  {
   "cell_type": "code",
   "execution_count": 40,
   "metadata": {},
   "outputs": [
    {
     "name": "stdout",
     "output_type": "stream",
     "text": [
      "product id: \n",
      "brand: Sexy silky. This is an a-line mini skirt with a center back zipper. The Benson pairs well with the Hailee Top.\n",
      "description: \n",
      "details: \n",
      "brand category: \n",
      "product name: \n",
      "shoe: Pointed-toe flats in suede (01DPCRZWX4S2Z8Q5HYDFM4HNEG)\n",
      "top: Ashlynn Blouse (01DPET2NWSA221STZF740BZ9SW)\n",
      "bottom: Benson Skirt (01DPKMGJ33SDFXM7XHGPQJWQ12)\n"
     ]
    }
   ],
   "source": [
    "get_rec()"
   ]
  }
 ],
 "metadata": {
  "kernelspec": {
   "display_name": "Python 3",
   "language": "python",
   "name": "python3"
  },
  "language_info": {
   "codemirror_mode": {
    "name": "ipython",
    "version": 3
   },
   "file_extension": ".py",
   "mimetype": "text/x-python",
   "name": "python",
   "nbconvert_exporter": "python",
   "pygments_lexer": "ipython3",
   "version": "3.7.6"
  }
 },
 "nbformat": 4,
 "nbformat_minor": 4
}
