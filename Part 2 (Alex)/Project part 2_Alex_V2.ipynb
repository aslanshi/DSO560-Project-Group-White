{
 "cells": [
  {
   "cell_type": "markdown",
   "metadata": {},
   "source": [
    "# Overview"
   ]
  },
  {
   "cell_type": "markdown",
   "metadata": {},
   "source": [
    "This notebook contains the codes I wrote for DSO 560 Text Analytics & NLP Final Project to recommend outfit for women clothing based on the user input. The client is ThreadTogether, an Australian Non-profit orgnazation.\n",
    "- Part I focuses on outfit recommendation with product ID input \n",
    "- Part II generates outfit recommendation based on text input of brand, brand category, details, or description"
   ]
  },
  {
   "cell_type": "markdown",
   "metadata": {},
   "source": [
    "Create on: 5.9.2020\n",
    "\n",
    "Create by: Xinyi (Alex) Guo"
   ]
  },
  {
   "cell_type": "code",
   "execution_count": 1,
   "metadata": {},
   "outputs": [],
   "source": [
    "import pandas as pd \n",
    "import numpy as np\n",
    "\n",
    "from fuzzywuzzy import fuzz\n",
    "\n",
    "import nltk\n",
    "from nltk.corpus import stopwords\n",
    "from nltk.tokenize import word_tokenize\n",
    "from nltk.stem import WordNetLemmatizer, PorterStemmer\n",
    "\n",
    "from scipy.spatial.distance import cosine"
   ]
  },
  {
   "cell_type": "markdown",
   "metadata": {},
   "source": [
    "### 1. Product ID input"
   ]
  },
  {
   "cell_type": "markdown",
   "metadata": {},
   "source": [
    "#### 1.1 Load outfit data"
   ]
  },
  {
   "cell_type": "code",
   "execution_count": 2,
   "metadata": {},
   "outputs": [],
   "source": [
    "outfit_df = pd.read_csv(\"outfit_combinations.csv\")"
   ]
  },
  {
   "cell_type": "code",
   "execution_count": 151,
   "metadata": {},
   "outputs": [],
   "source": [
    "# outfit_df.isnull().sum()"
   ]
  },
  {
   "cell_type": "code",
   "execution_count": 150,
   "metadata": {},
   "outputs": [],
   "source": [
    "# outfit_df.head()"
   ]
  },
  {
   "cell_type": "markdown",
   "metadata": {},
   "source": [
    "#### 1.2 Correct product ID input"
   ]
  },
  {
   "cell_type": "code",
   "execution_count": 6,
   "metadata": {},
   "outputs": [],
   "source": [
    "inputProductId = '01DMBRYVA2ZFDYRYY5TRQZJTBD'"
   ]
  },
  {
   "cell_type": "code",
   "execution_count": 7,
   "metadata": {},
   "outputs": [],
   "source": [
    "def recommendOutfit(outfit_df, inputProductId):\n",
    "    #after matching the product_id, use the first outfit_id for outfit recommendation\n",
    "    targetOutfitId = outfit_df[outfit_df.product_id == inputProductId].outfit_id.to_list()[0]\n",
    "    targetOutfit_df = outfit_df[outfit_df.outfit_id == targetOutfitId]\n",
    "    print(\"Recommended Outfit Combination: \\n\")\n",
    "    for i in targetOutfit_df.outfit_item_type.to_list():\n",
    "        temp = targetOutfit_df[targetOutfit_df.outfit_item_type == i]\n",
    "        print(f'\\t-{i}: {temp.product_full_name.to_list()[0]} ({temp.product_id.to_list()[0]})')"
   ]
  },
  {
   "cell_type": "code",
   "execution_count": 8,
   "metadata": {},
   "outputs": [
    {
     "name": "stdout",
     "output_type": "stream",
     "text": [
      "Recommended Outfit Combination: \n",
      "\n",
      "\t-bottom: Slim Knit Skirt (01DMBRYVA2P5H24WK0HTK4R0A1)\n",
      "\t-top: Rib Mock Neck Tank (01DMBRYVA2PEPWFTT7RMP5AA1T)\n",
      "\t-accessory1: medium margaux leather satchel (01DMBRYVA2S5T9W793F4CY41HE)\n",
      "\t-shoe: Penelope Mid Cap Toe Pump (01DMBRYVA2ZFDYRYY5TRQZJTBD)\n"
     ]
    }
   ],
   "source": [
    "recommendOutfit(outfit_df, inputProductId)"
   ]
  },
  {
   "cell_type": "markdown",
   "metadata": {},
   "source": [
    "#### 1.3 Handle mistyped product ID input"
   ]
  },
  {
   "cell_type": "code",
   "execution_count": 10,
   "metadata": {},
   "outputs": [],
   "source": [
    "typoProductId = '01DMBRYVA2Z3DYRYY5TRQZJTB5'"
   ]
  },
  {
   "cell_type": "code",
   "execution_count": 11,
   "metadata": {},
   "outputs": [
    {
     "data": {
      "text/plain": [
       "92"
      ]
     },
     "execution_count": 11,
     "metadata": {},
     "output_type": "execute_result"
    }
   ],
   "source": [
    "fuzz.ratio(inputProductId, typoProductId)"
   ]
  },
  {
   "cell_type": "code",
   "execution_count": 12,
   "metadata": {},
   "outputs": [],
   "source": [
    "def fuzzRatio(df):\n",
    "    product1 = df['typoProductId']\n",
    "    product2 = df['product_id']\n",
    "    return fuzz.ratio(product1, product2)"
   ]
  },
  {
   "cell_type": "code",
   "execution_count": 13,
   "metadata": {},
   "outputs": [],
   "source": [
    "def getCorrectProductId(outfit_df, typoProductId):\n",
    "    outfit_df['typoProductId'] = typoProductId\n",
    "    outfit_df['fuzzRatio'] = outfit_df.apply(fuzzRatio, axis=1)\n",
    "    #find the most similar product_id as the correct product_id\n",
    "    correctProductId = outfit_df[outfit_df.fuzzRatio == max(outfit_df.fuzzRatio)].product_id.to_list()[0]\n",
    "    return correctProductId"
   ]
  },
  {
   "cell_type": "code",
   "execution_count": 14,
   "metadata": {},
   "outputs": [
    {
     "name": "stdout",
     "output_type": "stream",
     "text": [
      "Recommended Outfit Combination: \n",
      "\n",
      "\t-bottom: Slim Knit Skirt (01DMBRYVA2P5H24WK0HTK4R0A1)\n",
      "\t-top: Rib Mock Neck Tank (01DMBRYVA2PEPWFTT7RMP5AA1T)\n",
      "\t-accessory1: medium margaux leather satchel (01DMBRYVA2S5T9W793F4CY41HE)\n",
      "\t-shoe: Penelope Mid Cap Toe Pump (01DMBRYVA2ZFDYRYY5TRQZJTBD)\n"
     ]
    }
   ],
   "source": [
    "correctProductId = getCorrectProductId(outfit_df, typoProductId)\n",
    "recommendOutfit(outfit_df, correctProductId)"
   ]
  },
  {
   "cell_type": "markdown",
   "metadata": {},
   "source": [
    "### 2. Free form text input (brand, brand category, details, and description)"
   ]
  },
  {
   "cell_type": "markdown",
   "metadata": {},
   "source": [
    "#### 2.1 Load and clean full Data"
   ]
  },
  {
   "cell_type": "code",
   "execution_count": 15,
   "metadata": {},
   "outputs": [],
   "source": [
    "fullData = pd.read_csv(\"full_data_final version.csv\")"
   ]
  },
  {
   "cell_type": "code",
   "execution_count": 16,
   "metadata": {},
   "outputs": [
    {
     "data": {
      "text/plain": [
       "(48979, 13)"
      ]
     },
     "execution_count": 16,
     "metadata": {},
     "output_type": "execute_result"
    }
   ],
   "source": [
    "fullData.shape"
   ]
  },
  {
   "cell_type": "code",
   "execution_count": 17,
   "metadata": {},
   "outputs": [],
   "source": [
    "fullData.drop_duplicates('product_id', inplace = True)"
   ]
  },
  {
   "cell_type": "code",
   "execution_count": 18,
   "metadata": {},
   "outputs": [],
   "source": [
    "fullData = fullData.loc[:, ['product_id', 'brand', 'product_full_name', 'description', 'brand_category', 'details']]"
   ]
  },
  {
   "cell_type": "code",
   "execution_count": 19,
   "metadata": {},
   "outputs": [
    {
     "data": {
      "text/plain": [
       "(48072, 6)"
      ]
     },
     "execution_count": 19,
     "metadata": {},
     "output_type": "execute_result"
    }
   ],
   "source": [
    "fullData.shape"
   ]
  },
  {
   "cell_type": "code",
   "execution_count": 20,
   "metadata": {},
   "outputs": [
    {
     "data": {
      "text/plain": [
       "product_id              0\n",
       "brand                   0\n",
       "product_full_name       0\n",
       "description          7917\n",
       "brand_category        238\n",
       "details              9615\n",
       "dtype: int64"
      ]
     },
     "execution_count": 20,
     "metadata": {},
     "output_type": "execute_result"
    }
   ],
   "source": [
    "fullData.isnull().sum()"
   ]
  },
  {
   "cell_type": "code",
   "execution_count": 21,
   "metadata": {},
   "outputs": [],
   "source": [
    "#Define function to remove punctuation\n",
    "import string \n",
    "def removePunctuation(text, punctuations=string.punctuation+\"``\"+\"’\"+\"”\"):\n",
    "    words=nltk.word_tokenize(text)\n",
    "    newWords = [word for word in words if word.lower() not in punctuations]\n",
    "    cleanedText = \" \".join(newWords)\n",
    "    return cleanedText"
   ]
  },
  {
   "cell_type": "code",
   "execution_count": 22,
   "metadata": {},
   "outputs": [],
   "source": [
    "nltk_stopwords = set(stopwords.words(\"English\"))"
   ]
  },
  {
   "cell_type": "code",
   "execution_count": 23,
   "metadata": {},
   "outputs": [],
   "source": [
    "#Define function to remove stopwords\n",
    "def removeStopwords(text, stopwords=nltk_stopwords):\n",
    "    words = nltk.word_tokenize(text)\n",
    "    newWords = [word for word in words if word.lower() not in stopwords]\n",
    "    cleanedText = \" \".join(newWords)\n",
    "    return cleanedText"
   ]
  },
  {
   "cell_type": "code",
   "execution_count": 24,
   "metadata": {},
   "outputs": [],
   "source": [
    "#Define function for lemmatization\n",
    "def lemmatize(text):\n",
    "    lemmatizer = WordNetLemmatizer()\n",
    "    words = nltk.word_tokenize(text)\n",
    "    lemmatizedWords = [lemmatizer.lemmatize(word.lower()) for word in words]\n",
    "    lemmatizedText = \" \".join(lemmatizedWords)\n",
    "    return lemmatizedText"
   ]
  },
  {
   "cell_type": "code",
   "execution_count": 25,
   "metadata": {},
   "outputs": [],
   "source": [
    "def preprocessing(df, columns = [\"brand\", \"brand_category\", \"description\", \"details\"]):\n",
    "    df['details'] = df['details'].str.replace(\"\\n\", \"\")\n",
    "    #replace 'unknown' or null values with UNKNOWN_TOKEN\n",
    "    df['brand_category'] = df['brand_category'].str.replace(\"Unknown\", \"UNKNOWN_TOKEN\")\n",
    "    df['brand_category'] = df['brand_category'].fillna('UNKNOWN_TOKEN')\n",
    "    df['description'] = df['description'].fillna('UNKNOWN_TOKEN')\n",
    "    df['details'] = df['details'].fillna('UNKNOWN_TOKEN')\n",
    "    #remove punctuation and stopwords then lemmatize\n",
    "    for col in columns: \n",
    "        df[col] = df[col].apply(removePunctuation)\n",
    "        df[col] = df[col].apply(removeStopwords)\n",
    "        df[col] = df[col].apply(lemmatize)\n",
    "    return df"
   ]
  },
  {
   "cell_type": "code",
   "execution_count": 26,
   "metadata": {},
   "outputs": [
    {
     "data": {
      "text/html": [
       "<div>\n",
       "<style scoped>\n",
       "    .dataframe tbody tr th:only-of-type {\n",
       "        vertical-align: middle;\n",
       "    }\n",
       "\n",
       "    .dataframe tbody tr th {\n",
       "        vertical-align: top;\n",
       "    }\n",
       "\n",
       "    .dataframe thead th {\n",
       "        text-align: right;\n",
       "    }\n",
       "</style>\n",
       "<table border=\"1\" class=\"dataframe\">\n",
       "  <thead>\n",
       "    <tr style=\"text-align: right;\">\n",
       "      <th></th>\n",
       "      <th>product_id</th>\n",
       "      <th>brand</th>\n",
       "      <th>product_full_name</th>\n",
       "      <th>description</th>\n",
       "      <th>brand_category</th>\n",
       "      <th>details</th>\n",
       "    </tr>\n",
       "  </thead>\n",
       "  <tbody>\n",
       "    <tr>\n",
       "      <th>0</th>\n",
       "      <td>01DSE9TC2DQXDG6GWKW9NMJ416</td>\n",
       "      <td>Banana Republic</td>\n",
       "      <td>Ankle-Strap Pump</td>\n",
       "      <td>A modern pump, in a rounded silhouette with an...</td>\n",
       "      <td>Unknown</td>\n",
       "      <td>A modern pump, in a rounded silhouette with an...</td>\n",
       "    </tr>\n",
       "    <tr>\n",
       "      <th>1</th>\n",
       "      <td>01DSE9SKM19XNA6SJP36JZC065</td>\n",
       "      <td>Banana Republic</td>\n",
       "      <td>Petite Tie-Neck Top</td>\n",
       "      <td>Dress it down with jeans and sneakers or dress...</td>\n",
       "      <td>Unknown</td>\n",
       "      <td>Dress it down with jeans and sneakers or dress...</td>\n",
       "    </tr>\n",
       "    <tr>\n",
       "      <th>2</th>\n",
       "      <td>01DSJX8GD4DSAP76SPR85HRCMN</td>\n",
       "      <td>Loewe</td>\n",
       "      <td>52MM Padded Leather Round Sunglasses</td>\n",
       "      <td>Padded leather covers classic round sunglasses.</td>\n",
       "      <td>JewelryAccessories/SunglassesReaders/RoundOval...</td>\n",
       "      <td>100% UV protection Case and cleaning cloth inc...</td>\n",
       "    </tr>\n",
       "    <tr>\n",
       "      <th>3</th>\n",
       "      <td>01DSJVKJNS6F4KQ1QM6YYK9AW2</td>\n",
       "      <td>Converse</td>\n",
       "      <td>Baby's &amp; Little Kid's All-Star Two-Tone Mid-To...</td>\n",
       "      <td>The iconic mid-top design gets an added dose o...</td>\n",
       "      <td>JustKids/Shoes/Baby024Months/BabyGirl,JustKids...</td>\n",
       "      <td>Canvas upper Round toe Lace-up vamp SmartFOAM ...</td>\n",
       "    </tr>\n",
       "    <tr>\n",
       "      <th>4</th>\n",
       "      <td>01DSK15ZD4D5A0QXA8NSD25YXE</td>\n",
       "      <td>Alexander McQueen</td>\n",
       "      <td>64MM Rimless Sunglasses</td>\n",
       "      <td>Hexagonal shades offer a rimless view with int...</td>\n",
       "      <td>JewelryAccessories/SunglassesReaders/RoundOval</td>\n",
       "      <td>100% UV protection Gradient lenses Adjustable ...</td>\n",
       "    </tr>\n",
       "  </tbody>\n",
       "</table>\n",
       "</div>"
      ],
      "text/plain": [
       "                   product_id              brand  \\\n",
       "0  01DSE9TC2DQXDG6GWKW9NMJ416    Banana Republic   \n",
       "1  01DSE9SKM19XNA6SJP36JZC065    Banana Republic   \n",
       "2  01DSJX8GD4DSAP76SPR85HRCMN              Loewe   \n",
       "3  01DSJVKJNS6F4KQ1QM6YYK9AW2           Converse   \n",
       "4  01DSK15ZD4D5A0QXA8NSD25YXE  Alexander McQueen   \n",
       "\n",
       "                                   product_full_name  \\\n",
       "0                                   Ankle-Strap Pump   \n",
       "1                                Petite Tie-Neck Top   \n",
       "2               52MM Padded Leather Round Sunglasses   \n",
       "3  Baby's & Little Kid's All-Star Two-Tone Mid-To...   \n",
       "4                            64MM Rimless Sunglasses   \n",
       "\n",
       "                                         description  \\\n",
       "0  A modern pump, in a rounded silhouette with an...   \n",
       "1  Dress it down with jeans and sneakers or dress...   \n",
       "2    Padded leather covers classic round sunglasses.   \n",
       "3  The iconic mid-top design gets an added dose o...   \n",
       "4  Hexagonal shades offer a rimless view with int...   \n",
       "\n",
       "                                      brand_category  \\\n",
       "0                                            Unknown   \n",
       "1                                            Unknown   \n",
       "2  JewelryAccessories/SunglassesReaders/RoundOval...   \n",
       "3  JustKids/Shoes/Baby024Months/BabyGirl,JustKids...   \n",
       "4     JewelryAccessories/SunglassesReaders/RoundOval   \n",
       "\n",
       "                                             details  \n",
       "0  A modern pump, in a rounded silhouette with an...  \n",
       "1  Dress it down with jeans and sneakers or dress...  \n",
       "2  100% UV protection Case and cleaning cloth inc...  \n",
       "3  Canvas upper Round toe Lace-up vamp SmartFOAM ...  \n",
       "4  100% UV protection Gradient lenses Adjustable ...  "
      ]
     },
     "execution_count": 26,
     "metadata": {},
     "output_type": "execute_result"
    }
   ],
   "source": [
    "fullData.head()"
   ]
  },
  {
   "cell_type": "code",
   "execution_count": 27,
   "metadata": {},
   "outputs": [],
   "source": [
    "fullData = preprocessing(fullData)"
   ]
  },
  {
   "cell_type": "code",
   "execution_count": 28,
   "metadata": {},
   "outputs": [
    {
     "data": {
      "text/html": [
       "<div>\n",
       "<style scoped>\n",
       "    .dataframe tbody tr th:only-of-type {\n",
       "        vertical-align: middle;\n",
       "    }\n",
       "\n",
       "    .dataframe tbody tr th {\n",
       "        vertical-align: top;\n",
       "    }\n",
       "\n",
       "    .dataframe thead th {\n",
       "        text-align: right;\n",
       "    }\n",
       "</style>\n",
       "<table border=\"1\" class=\"dataframe\">\n",
       "  <thead>\n",
       "    <tr style=\"text-align: right;\">\n",
       "      <th></th>\n",
       "      <th>product_id</th>\n",
       "      <th>brand</th>\n",
       "      <th>product_full_name</th>\n",
       "      <th>description</th>\n",
       "      <th>brand_category</th>\n",
       "      <th>details</th>\n",
       "    </tr>\n",
       "  </thead>\n",
       "  <tbody>\n",
       "    <tr>\n",
       "      <th>0</th>\n",
       "      <td>01DSE9TC2DQXDG6GWKW9NMJ416</td>\n",
       "      <td>banana republic</td>\n",
       "      <td>Ankle-Strap Pump</td>\n",
       "      <td>modern pump rounded silhouette ankle strap ext...</td>\n",
       "      <td>unknown_token</td>\n",
       "      <td>modern pump rounded silhouette ankle strap ext...</td>\n",
       "    </tr>\n",
       "    <tr>\n",
       "      <th>1</th>\n",
       "      <td>01DSE9SKM19XNA6SJP36JZC065</td>\n",
       "      <td>banana republic</td>\n",
       "      <td>Petite Tie-Neck Top</td>\n",
       "      <td>dress jean sneaker dress tailored trouser heel...</td>\n",
       "      <td>unknown_token</td>\n",
       "      <td>dress jean sneaker dress tailored trouser heel...</td>\n",
       "    </tr>\n",
       "    <tr>\n",
       "      <th>2</th>\n",
       "      <td>01DSJX8GD4DSAP76SPR85HRCMN</td>\n",
       "      <td>loewe</td>\n",
       "      <td>52MM Padded Leather Round Sunglasses</td>\n",
       "      <td>padded leather cover classic round sunglass</td>\n",
       "      <td>jewelryaccessories/sunglassesreaders/roundoval...</td>\n",
       "      <td>100 uv protection case cleaning cloth included...</td>\n",
       "    </tr>\n",
       "    <tr>\n",
       "      <th>3</th>\n",
       "      <td>01DSJVKJNS6F4KQ1QM6YYK9AW2</td>\n",
       "      <td>converse</td>\n",
       "      <td>Baby's &amp; Little Kid's All-Star Two-Tone Mid-To...</td>\n",
       "      <td>iconic mid-top design get added dose support p...</td>\n",
       "      <td>justkids/shoes/baby024months/babygirl justkids...</td>\n",
       "      <td>canvas upper round toe lace-up vamp smartfoam ...</td>\n",
       "    </tr>\n",
       "    <tr>\n",
       "      <th>4</th>\n",
       "      <td>01DSK15ZD4D5A0QXA8NSD25YXE</td>\n",
       "      <td>alexander mcqueen</td>\n",
       "      <td>64MM Rimless Sunglasses</td>\n",
       "      <td>hexagonal shade offer rimless view intricate n...</td>\n",
       "      <td>jewelryaccessories/sunglassesreaders/roundoval</td>\n",
       "      <td>100 uv protection gradient lens adjustable nos...</td>\n",
       "    </tr>\n",
       "  </tbody>\n",
       "</table>\n",
       "</div>"
      ],
      "text/plain": [
       "                   product_id              brand  \\\n",
       "0  01DSE9TC2DQXDG6GWKW9NMJ416    banana republic   \n",
       "1  01DSE9SKM19XNA6SJP36JZC065    banana republic   \n",
       "2  01DSJX8GD4DSAP76SPR85HRCMN              loewe   \n",
       "3  01DSJVKJNS6F4KQ1QM6YYK9AW2           converse   \n",
       "4  01DSK15ZD4D5A0QXA8NSD25YXE  alexander mcqueen   \n",
       "\n",
       "                                   product_full_name  \\\n",
       "0                                   Ankle-Strap Pump   \n",
       "1                                Petite Tie-Neck Top   \n",
       "2               52MM Padded Leather Round Sunglasses   \n",
       "3  Baby's & Little Kid's All-Star Two-Tone Mid-To...   \n",
       "4                            64MM Rimless Sunglasses   \n",
       "\n",
       "                                         description  \\\n",
       "0  modern pump rounded silhouette ankle strap ext...   \n",
       "1  dress jean sneaker dress tailored trouser heel...   \n",
       "2        padded leather cover classic round sunglass   \n",
       "3  iconic mid-top design get added dose support p...   \n",
       "4  hexagonal shade offer rimless view intricate n...   \n",
       "\n",
       "                                      brand_category  \\\n",
       "0                                      unknown_token   \n",
       "1                                      unknown_token   \n",
       "2  jewelryaccessories/sunglassesreaders/roundoval...   \n",
       "3  justkids/shoes/baby024months/babygirl justkids...   \n",
       "4     jewelryaccessories/sunglassesreaders/roundoval   \n",
       "\n",
       "                                             details  \n",
       "0  modern pump rounded silhouette ankle strap ext...  \n",
       "1  dress jean sneaker dress tailored trouser heel...  \n",
       "2  100 uv protection case cleaning cloth included...  \n",
       "3  canvas upper round toe lace-up vamp smartfoam ...  \n",
       "4  100 uv protection gradient lens adjustable nos...  "
      ]
     },
     "execution_count": 28,
     "metadata": {},
     "output_type": "execute_result"
    }
   ],
   "source": [
    "fullData.head()"
   ]
  },
  {
   "cell_type": "markdown",
   "metadata": {},
   "source": [
    "#### 2.2 Vectorize full data"
   ]
  },
  {
   "cell_type": "code",
   "execution_count": 29,
   "metadata": {},
   "outputs": [],
   "source": [
    "import en_core_web_lg\n",
    "nlp = en_core_web_lg.load()\n",
    "def vectorize(text):\n",
    "    temp = nlp(text)\n",
    "    return temp.vector"
   ]
  },
  {
   "cell_type": "code",
   "execution_count": 30,
   "metadata": {},
   "outputs": [
    {
     "name": "stdout",
     "output_type": "stream",
     "text": [
      "brand is vectorized.\n",
      "brand_category is vectorized.\n",
      "description is vectorized.\n",
      "details is vectorized.\n"
     ]
    }
   ],
   "source": [
    "columns = [\"brand\", \"brand_category\", \"description\", \"details\"]\n",
    "for col in columns:\n",
    "    fullData[\"{}Vector\".format(col)] = fullData[col].apply(vectorize)\n",
    "    print(col, \"is vectorized.\")"
   ]
  },
  {
   "cell_type": "code",
   "execution_count": 31,
   "metadata": {},
   "outputs": [
    {
     "data": {
      "text/html": [
       "<div>\n",
       "<style scoped>\n",
       "    .dataframe tbody tr th:only-of-type {\n",
       "        vertical-align: middle;\n",
       "    }\n",
       "\n",
       "    .dataframe tbody tr th {\n",
       "        vertical-align: top;\n",
       "    }\n",
       "\n",
       "    .dataframe thead th {\n",
       "        text-align: right;\n",
       "    }\n",
       "</style>\n",
       "<table border=\"1\" class=\"dataframe\">\n",
       "  <thead>\n",
       "    <tr style=\"text-align: right;\">\n",
       "      <th></th>\n",
       "      <th>product_id</th>\n",
       "      <th>brand</th>\n",
       "      <th>product_full_name</th>\n",
       "      <th>description</th>\n",
       "      <th>brand_category</th>\n",
       "      <th>details</th>\n",
       "      <th>brandVector</th>\n",
       "      <th>brand_categoryVector</th>\n",
       "      <th>descriptionVector</th>\n",
       "      <th>detailsVector</th>\n",
       "    </tr>\n",
       "  </thead>\n",
       "  <tbody>\n",
       "    <tr>\n",
       "      <th>0</th>\n",
       "      <td>01DSE9TC2DQXDG6GWKW9NMJ416</td>\n",
       "      <td>banana republic</td>\n",
       "      <td>Ankle-Strap Pump</td>\n",
       "      <td>modern pump rounded silhouette ankle strap ext...</td>\n",
       "      <td>unknown_token</td>\n",
       "      <td>modern pump rounded silhouette ankle strap ext...</td>\n",
       "      <td>[0.1228375, -0.211389, 0.60544, 0.1499925, -0....</td>\n",
       "      <td>[0.0, 0.0, 0.0, 0.0, 0.0, 0.0, 0.0, 0.0, 0.0, ...</td>\n",
       "      <td>[0.00021044741, 0.12995128, -0.10054972, 0.048...</td>\n",
       "      <td>[-0.047574263, 0.16968253, -0.11397273, 0.0237...</td>\n",
       "    </tr>\n",
       "    <tr>\n",
       "      <th>1</th>\n",
       "      <td>01DSE9SKM19XNA6SJP36JZC065</td>\n",
       "      <td>banana republic</td>\n",
       "      <td>Petite Tie-Neck Top</td>\n",
       "      <td>dress jean sneaker dress tailored trouser heel...</td>\n",
       "      <td>unknown_token</td>\n",
       "      <td>dress jean sneaker dress tailored trouser heel...</td>\n",
       "      <td>[0.1228375, -0.211389, 0.60544, 0.1499925, -0....</td>\n",
       "      <td>[0.0, 0.0, 0.0, 0.0, 0.0, 0.0, 0.0, 0.0, 0.0, ...</td>\n",
       "      <td>[0.021091318, 0.06911382, -0.18785079, 0.31123...</td>\n",
       "      <td>[-0.015648283, 0.19760883, -0.1847444, 0.19181...</td>\n",
       "    </tr>\n",
       "    <tr>\n",
       "      <th>2</th>\n",
       "      <td>01DSJX8GD4DSAP76SPR85HRCMN</td>\n",
       "      <td>loewe</td>\n",
       "      <td>52MM Padded Leather Round Sunglasses</td>\n",
       "      <td>padded leather cover classic round sunglass</td>\n",
       "      <td>jewelryaccessories/sunglassesreaders/roundoval...</td>\n",
       "      <td>100 uv protection case cleaning cloth included...</td>\n",
       "      <td>[0.31551, 0.47482, 0.23485, 0.74321, 0.57547, ...</td>\n",
       "      <td>[0.0079012, 0.2155, -0.0106336, 0.152184, 0.23...</td>\n",
       "      <td>[0.09593249, -0.09788016, -0.06213267, 0.10880...</td>\n",
       "      <td>[0.11028513, 0.4177481, -0.025815923, 0.013043...</td>\n",
       "    </tr>\n",
       "    <tr>\n",
       "      <th>3</th>\n",
       "      <td>01DSJVKJNS6F4KQ1QM6YYK9AW2</td>\n",
       "      <td>converse</td>\n",
       "      <td>Baby's &amp; Little Kid's All-Star Two-Tone Mid-To...</td>\n",
       "      <td>iconic mid-top design get added dose support p...</td>\n",
       "      <td>justkids/shoes/baby024months/babygirl justkids...</td>\n",
       "      <td>canvas upper round toe lace-up vamp smartfoam ...</td>\n",
       "      <td>[-0.18844, -0.40088, -0.3496, -0.06288, 0.5014...</td>\n",
       "      <td>[0.03199641, 0.23442467, 0.0011862485, 0.01239...</td>\n",
       "      <td>[0.050940253, 0.17849508, -0.07587735, 0.15529...</td>\n",
       "      <td>[-0.052187078, -0.008974921, -0.11718154, 0.03...</td>\n",
       "    </tr>\n",
       "    <tr>\n",
       "      <th>4</th>\n",
       "      <td>01DSK15ZD4D5A0QXA8NSD25YXE</td>\n",
       "      <td>alexander mcqueen</td>\n",
       "      <td>64MM Rimless Sunglasses</td>\n",
       "      <td>hexagonal shade offer rimless view intricate n...</td>\n",
       "      <td>jewelryaccessories/sunglassesreaders/roundoval</td>\n",
       "      <td>100 uv protection gradient lens adjustable nos...</td>\n",
       "      <td>[0.167725, 0.269785, 0.200405, -0.14397, -0.10...</td>\n",
       "      <td>[0.0079012, 0.2155, -0.0106336, 0.152184, 0.23...</td>\n",
       "      <td>[0.16068909, 0.115750454, -0.05685518, 0.06262...</td>\n",
       "      <td>[0.13339709, 0.43507954, -0.056259636, 0.05777...</td>\n",
       "    </tr>\n",
       "  </tbody>\n",
       "</table>\n",
       "</div>"
      ],
      "text/plain": [
       "                   product_id              brand  \\\n",
       "0  01DSE9TC2DQXDG6GWKW9NMJ416    banana republic   \n",
       "1  01DSE9SKM19XNA6SJP36JZC065    banana republic   \n",
       "2  01DSJX8GD4DSAP76SPR85HRCMN              loewe   \n",
       "3  01DSJVKJNS6F4KQ1QM6YYK9AW2           converse   \n",
       "4  01DSK15ZD4D5A0QXA8NSD25YXE  alexander mcqueen   \n",
       "\n",
       "                                   product_full_name  \\\n",
       "0                                   Ankle-Strap Pump   \n",
       "1                                Petite Tie-Neck Top   \n",
       "2               52MM Padded Leather Round Sunglasses   \n",
       "3  Baby's & Little Kid's All-Star Two-Tone Mid-To...   \n",
       "4                            64MM Rimless Sunglasses   \n",
       "\n",
       "                                         description  \\\n",
       "0  modern pump rounded silhouette ankle strap ext...   \n",
       "1  dress jean sneaker dress tailored trouser heel...   \n",
       "2        padded leather cover classic round sunglass   \n",
       "3  iconic mid-top design get added dose support p...   \n",
       "4  hexagonal shade offer rimless view intricate n...   \n",
       "\n",
       "                                      brand_category  \\\n",
       "0                                      unknown_token   \n",
       "1                                      unknown_token   \n",
       "2  jewelryaccessories/sunglassesreaders/roundoval...   \n",
       "3  justkids/shoes/baby024months/babygirl justkids...   \n",
       "4     jewelryaccessories/sunglassesreaders/roundoval   \n",
       "\n",
       "                                             details  \\\n",
       "0  modern pump rounded silhouette ankle strap ext...   \n",
       "1  dress jean sneaker dress tailored trouser heel...   \n",
       "2  100 uv protection case cleaning cloth included...   \n",
       "3  canvas upper round toe lace-up vamp smartfoam ...   \n",
       "4  100 uv protection gradient lens adjustable nos...   \n",
       "\n",
       "                                         brandVector  \\\n",
       "0  [0.1228375, -0.211389, 0.60544, 0.1499925, -0....   \n",
       "1  [0.1228375, -0.211389, 0.60544, 0.1499925, -0....   \n",
       "2  [0.31551, 0.47482, 0.23485, 0.74321, 0.57547, ...   \n",
       "3  [-0.18844, -0.40088, -0.3496, -0.06288, 0.5014...   \n",
       "4  [0.167725, 0.269785, 0.200405, -0.14397, -0.10...   \n",
       "\n",
       "                                brand_categoryVector  \\\n",
       "0  [0.0, 0.0, 0.0, 0.0, 0.0, 0.0, 0.0, 0.0, 0.0, ...   \n",
       "1  [0.0, 0.0, 0.0, 0.0, 0.0, 0.0, 0.0, 0.0, 0.0, ...   \n",
       "2  [0.0079012, 0.2155, -0.0106336, 0.152184, 0.23...   \n",
       "3  [0.03199641, 0.23442467, 0.0011862485, 0.01239...   \n",
       "4  [0.0079012, 0.2155, -0.0106336, 0.152184, 0.23...   \n",
       "\n",
       "                                   descriptionVector  \\\n",
       "0  [0.00021044741, 0.12995128, -0.10054972, 0.048...   \n",
       "1  [0.021091318, 0.06911382, -0.18785079, 0.31123...   \n",
       "2  [0.09593249, -0.09788016, -0.06213267, 0.10880...   \n",
       "3  [0.050940253, 0.17849508, -0.07587735, 0.15529...   \n",
       "4  [0.16068909, 0.115750454, -0.05685518, 0.06262...   \n",
       "\n",
       "                                       detailsVector  \n",
       "0  [-0.047574263, 0.16968253, -0.11397273, 0.0237...  \n",
       "1  [-0.015648283, 0.19760883, -0.1847444, 0.19181...  \n",
       "2  [0.11028513, 0.4177481, -0.025815923, 0.013043...  \n",
       "3  [-0.052187078, -0.008974921, -0.11718154, 0.03...  \n",
       "4  [0.13339709, 0.43507954, -0.056259636, 0.05777...  "
      ]
     },
     "execution_count": 31,
     "metadata": {},
     "output_type": "execute_result"
    }
   ],
   "source": [
    "fullData.head()"
   ]
  },
  {
   "cell_type": "code",
   "execution_count": 32,
   "metadata": {},
   "outputs": [],
   "source": [
    "# fullData.to_csv('cleaned vectorized fulldata.csv')"
   ]
  },
  {
   "cell_type": "markdown",
   "metadata": {},
   "source": [
    "#### 2.3 Outfit recommendation based on free form input of brand, brand category, details, and description"
   ]
  },
  {
   "cell_type": "code",
   "execution_count": 107,
   "metadata": {},
   "outputs": [],
   "source": [
    "#initialize default cosine columns of value 0 to calculate cosine average later\n",
    "columns = [\"brand\", \"brand_category\", \"description\", \"details\"]\n",
    "for col in columns:\n",
    "    fullData[\"cosine_{}\".format(col)] = 0"
   ]
  },
  {
   "cell_type": "code",
   "execution_count": 142,
   "metadata": {},
   "outputs": [],
   "source": [
    "#test 1\n",
    "inputDescription = \"slim fitting, straight leg pant with a center back zipper and slightly cropped leg\"\n",
    "inputBrand = \"Reformation\"\n",
    "inputBrandCategory = \"\"\n",
    "inputDetails = \"\"\n",
    "inputTextDict = {\"description\":inputDescription, \"brand\":inputBrand, \n",
    "                 \"brand_category\":inputBrandCategory, \"details\":inputDetails}"
   ]
  },
  {
   "cell_type": "code",
   "execution_count": 146,
   "metadata": {},
   "outputs": [],
   "source": [
    "#test 2\n",
    "inputDescription = \"Sexy silky, a-line mini skirt zipper Benson skirt\"\n",
    "inputBrand = \"\"\n",
    "inputBrandCategory = \"\"\n",
    "inputDetails = \"\"\n",
    "inputTextDict = {\"description\":inputDescription, \"brand\":inputBrand, \n",
    "                 \"brand_category\":inputBrandCategory, \"details\":inputDetails}"
   ]
  },
  {
   "cell_type": "code",
   "execution_count": 143,
   "metadata": {},
   "outputs": [],
   "source": [
    "def inputPreprocessing(text):\n",
    "    text = removePunctuation(text)\n",
    "    text = removeStopwords(text)\n",
    "    text = lemmatize(text)\n",
    "    return text"
   ]
  },
  {
   "cell_type": "code",
   "execution_count": 144,
   "metadata": {},
   "outputs": [],
   "source": [
    "def calculateCosineDistance(df):\n",
    "    vector1 = inputVector\n",
    "    vector2 = df[\"{}Vector\".format(key)]\n",
    "    return (1 - cosine(vector1, vector2))"
   ]
  },
  {
   "cell_type": "code",
   "execution_count": 147,
   "metadata": {},
   "outputs": [
    {
     "name": "stdout",
     "output_type": "stream",
     "text": [
      "Recommended Outfit Combination: \n",
      "\n",
      "\t-shoe: Pointed-toe flats in suede (01DPCRZWX4S2Z8Q5HYDFM4HNEG)\n",
      "\t-top: Ashlynn Blouse (01DPET2NWSA221STZF740BZ9SW)\n",
      "\t-bottom: Benson Skirt (01DPKMGJ33SDFXM7XHGPQJWQ12)\n"
     ]
    }
   ],
   "source": [
    "#Recommend outfit\n",
    "for key in inputTextDict.keys():\n",
    "    if inputTextDict[key] != \"\":\n",
    "        inputText = inputPreprocessing(inputTextDict[key])\n",
    "        inputVector = vectorize(inputText)\n",
    "        fullData['cosine_{}'.format(key)] = fullData.apply(calculateCosineDistance, axis=1)\n",
    "        \n",
    "fullData['cosine_avg'] = fullData.mean(axis = 1)\n",
    "similarProductId = fullData[fullData.cosine_avg == max(fullData.cosine_avg)].product_id.to_list()[0]\n",
    "recommendOutfit(outfit_df, similarProductId)"
   ]
  },
  {
   "cell_type": "code",
   "execution_count": 149,
   "metadata": {},
   "outputs": [],
   "source": [
    "# fullData.sort_values('cosine_avg', ascending = False)"
   ]
  },
  {
   "cell_type": "code",
   "execution_count": null,
   "metadata": {},
   "outputs": [],
   "source": []
  }
 ],
 "metadata": {
  "kernelspec": {
   "display_name": "Python 3",
   "language": "python",
   "name": "python3"
  },
  "varInspector": {
   "cols": {
    "lenName": 16,
    "lenType": 16,
    "lenVar": 40
   },
   "kernels_config": {
    "python": {
     "delete_cmd_postfix": "",
     "delete_cmd_prefix": "del ",
     "library": "var_list.py",
     "varRefreshCmd": "print(var_dic_list())"
    },
    "r": {
     "delete_cmd_postfix": ") ",
     "delete_cmd_prefix": "rm(",
     "library": "var_list.r",
     "varRefreshCmd": "cat(var_dic_list()) "
    }
   },
   "types_to_exclude": [
    "module",
    "function",
    "builtin_function_or_method",
    "instance",
    "_Feature"
   ],
   "window_display": false
  }
 },
 "nbformat": 4,
 "nbformat_minor": 2
}
