{
 "cells": [
  {
   "cell_type": "markdown",
   "metadata": {},
   "source": [
    "## INSTRUCTION:\n",
    "\n",
    "Please download and un-zip all files in the same folder with this notebook."
   ]
  },
  {
   "cell_type": "code",
   "execution_count": 1,
   "metadata": {},
   "outputs": [
    {
     "name": "stderr",
     "output_type": "stream",
     "text": [
      "Using TensorFlow backend.\n"
     ]
    }
   ],
   "source": [
    "import pandas as pd\n",
    "import numpy as np\n",
    "import matplotlib.pyplot as plt\n",
    "import re\n",
    "import nltk\n",
    "import string\n",
    "import scipy\n",
    "from fuzzywuzzy import fuzz \n",
    "from fuzzywuzzy import process\n",
    "import spacy\n",
    "nlp = spacy.load('en_core_web_md')\n",
    "\n",
    "import pickle\n",
    "from keras.models import load_model\n",
    "\n",
    "def save_obj(obj, name):\n",
    "    with open(name + '.pkl', 'wb') as f:\n",
    "        pickle.dump(obj, f, pickle.HIGHEST_PROTOCOL)\n",
    "\n",
    "def load_obj(name):\n",
    "    with open(name + '.pkl', 'rb') as f:\n",
    "        return pickle.load(f)"
   ]
  },
  {
   "cell_type": "code",
   "execution_count": 2,
   "metadata": {},
   "outputs": [],
   "source": [
    "vectorizer = load_obj(\"tfidf_vectorizer\")\n",
    "SVD = load_obj(\"SVD\")\n",
    "merge = pd.read_csv(\"vectors.csv\",index_col=0)\n",
    "outfit = pd.read_csv(\"outfit_combinations.csv\")"
   ]
  },
  {
   "cell_type": "code",
   "execution_count": 3,
   "metadata": {},
   "outputs": [],
   "source": [
    "def recommendbyID(id):\n",
    "    \n",
    "    #Use fuzzy-matching to find product_id that most similar to the input id\n",
    "    foundID = process.extractOne(id,outfit['product_id'],scorer=fuzz.token_set_ratio)[0]\n",
    "    \n",
    "    #Get all outfit_id for which involve matched product\n",
    "    outfits = outfit[outfit.product_id==foundID].outfit_id\n",
    "    \n",
    "    #Select first outfit\n",
    "    products = outfit[outfit.outfit_id==outfits.values[0]]\n",
    "    \n",
    "    #Formatting output of function\n",
    "    for i in products.index:\n",
    "        item_type = products.loc[i,\"outfit_item_type\"]\n",
    "        full_name = products.loc[i,\"product_full_name\"]\n",
    "        prod_id = products.loc[i,\"product_id\"]\n",
    "        print(item_type+\": \"+full_name+\" (\"+prod_id+\")\")\n",
    "        \n",
    "        \n",
    "\n",
    "def preprocess_text(sen):\n",
    "    # Remove punctuations and numbers\n",
    "    sentence = re.sub('[^a-zA-Z]', ' ', sen)\n",
    "\n",
    "    # Single character removal\n",
    "    sentence = re.sub(r\"\\s+[a-zA-Z]\\s+\", ' ', sentence)\n",
    "\n",
    "    # Removing multiple spaces\n",
    "    sentence = re.sub(r'\\s+', ' ', sentence)\n",
    "    \n",
    "    #remove stopwords and do lemmatization\n",
    "    doc = nlp(sentence)\n",
    "    tokens = [token.lemma_ for token in doc if not token.is_stop]\n",
    "    \n",
    "    return \" \".join(tokens)\n",
    "\n",
    "\n",
    "\n",
    "def similarproduct(query):\n",
    "    query = preprocess_text(query)\n",
    "    query_vector = vectorizer.transform([query])\n",
    "    query_vector = SVD.transform(query_vector)\n",
    "    cos = 0\n",
    "    for i in range(len(merge)):\n",
    "        similar = 1 - scipy.spatial.distance.cosine(query_vector, merge.iloc[i,4:])\n",
    "        if similar > cos:\n",
    "            cos = similar\n",
    "            productid = merge.index[i]\n",
    "    return recommendbyID(productid)"
   ]
  },
  {
   "cell_type": "markdown",
   "metadata": {},
   "source": [
    "## User Input"
   ]
  },
  {
   "cell_type": "code",
   "execution_count": 4,
   "metadata": {},
   "outputs": [
    {
     "name": "stdout",
     "output_type": "stream",
     "text": [
      "bottom: Slim Knit Skirt (01DMBRYVA2P5H24WK0HTK4R0A1)\n",
      "top: Rib Mock Neck Tank (01DMBRYVA2PEPWFTT7RMP5AA1T)\n",
      "accessory1: medium margaux leather satchel (01DMBRYVA2S5T9W793F4CY41HE)\n",
      "shoe: Penelope Mid Cap Toe Pump (01DMBRYVA2ZFDYRYY5TRQZJTBD)\n"
     ]
    }
   ],
   "source": [
    "# Test Example: Input ID\n",
    "\n",
    "inputID = \"01DMBRYVA2ZFDYRYY5TRQZJTBD\"\n",
    "recommendbyID(inputID)"
   ]
  },
  {
   "cell_type": "code",
   "execution_count": 5,
   "metadata": {},
   "outputs": [
    {
     "name": "stdout",
     "output_type": "stream",
     "text": [
      "accessory1: Cassi Belt Bag (01DPEHS0XH9PDD1GH5ZE4P43A2)\n",
      "bottom: Marlon Pant (01DPKMH0D252JKMAA27MFCT5GM)\n",
      "top: Jane Sweater (01DPKN20Q3J0BE3CS896DQB6ER)\n",
      "shoe: Giulia Satin Heel (01DPKNHQDG6GPTKV97CFQRJDHE)\n"
     ]
    }
   ],
   "source": [
    "# Test Example: Input Description/Brand/Brand Category/Details\n",
    "\n",
    "inputDescription = \"slim fitting, straight leg pant with a center back zipper and slightly cropped leg\"\n",
    "inputBrand = \"Reformation\"\n",
    "inputBrandCategory = \"\"\n",
    "inputDetails = \"\"\n",
    "\n",
    "input_text = inputDescription+\" \"+inputBrand+\" \"+inputBrandCategory+\" \"+inputDetails\n",
    "\n",
    "similarproduct(input_text)"
   ]
  }
 ],
 "metadata": {
  "kernelspec": {
   "display_name": "Python 3",
   "language": "python",
   "name": "python3"
  },
  "language_info": {
   "codemirror_mode": {
    "name": "ipython",
    "version": 3
   },
   "file_extension": ".py",
   "mimetype": "text/x-python",
   "name": "python",
   "nbconvert_exporter": "python",
   "pygments_lexer": "ipython3",
   "version": "3.7.6"
  }
 },
 "nbformat": 4,
 "nbformat_minor": 4
}
